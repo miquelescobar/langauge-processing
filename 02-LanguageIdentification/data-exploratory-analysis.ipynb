{
 "cells": [
  {
   "cell_type": "code",
   "execution_count": 26,
   "metadata": {},
   "outputs": [],
   "source": [
    "import pandas as pd\n",
    "import numpy as np\n",
    "import matplotlib.pyplot as plt"
   ]
  },
  {
   "cell_type": "code",
   "execution_count": 30,
   "metadata": {},
   "outputs": [],
   "source": [
    "plt.style.use('seaborn')"
   ]
  },
  {
   "cell_type": "markdown",
   "metadata": {},
   "source": [
    "## Data exploratory analysis"
   ]
  },
  {
   "cell_type": "code",
   "execution_count": 2,
   "metadata": {},
   "outputs": [],
   "source": [
    "DATA_ROOT = './data'"
   ]
  },
  {
   "cell_type": "code",
   "execution_count": 13,
   "metadata": {},
   "outputs": [],
   "source": [
    "x_test = open(f'{DATA_ROOT}/x_test.txt', 'r', encoding='utf-8').readlines()\n",
    "x_train = open(f'{DATA_ROOT}/x_train.txt', 'r', encoding='utf-8').readlines()\n",
    "y_train = open(f'{DATA_ROOT}/y_train.txt', 'r', encoding='utf-8').readlines()\n",
    "labels = pd.read_csv(f'{DATA_ROOT}/labels.csv')\n",
    "#scripts = pd.read_csv(f'{DATA_ROOT}/Scripts.txt')"
   ]
  },
  {
   "cell_type": "code",
   "execution_count": 14,
   "metadata": {},
   "outputs": [
    {
     "name": "stdout",
     "output_type": "stream",
     "text": [
      "117500 117500 235\n"
     ]
    }
   ],
   "source": [
    "print(len(x_test), len(x_train), len(labels))"
   ]
  },
  {
   "cell_type": "code",
   "execution_count": 70,
   "metadata": {},
   "outputs": [],
   "source": [
    "def remove_outliers(array, n=3):\n",
    "    \"\"\"\"\"\"\n",
    "    mean = np.mean(array)\n",
    "    std = np.std(array)\n",
    "    dist = abs(array - mean)\n",
    "    return array[dist < n*std]"
   ]
  },
  {
   "cell_type": "code",
   "execution_count": 89,
   "metadata": {},
   "outputs": [
    {
     "data": {
      "text/plain": [
       "(371.82992902006845, 272.0, 580.5771857656524, 141, 107301)"
      ]
     },
     "execution_count": 89,
     "metadata": {},
     "output_type": "execute_result"
    }
   ],
   "source": [
    "x_test_lens_ = np.array([len(t) for t in x_test])\n",
    "x_test_lens = remove_outliers(x_test_lens_)\n",
    "x_test_lens_.mean(), np.median(x_test_lens_), x_test_lens_.std(), x_test_lens_.min(), x_test_lens_.max()"
   ]
  },
  {
   "cell_type": "code",
   "execution_count": 88,
   "metadata": {},
   "outputs": [
    {
     "data": {
      "text/plain": [
       "(369.9549787234043, 272.0, 457.19958172611166, 141, 40579)"
      ]
     },
     "execution_count": 88,
     "metadata": {},
     "output_type": "execute_result"
    }
   ],
   "source": [
    "x_train_lens_ = np.array([len(t) for t in x_train])\n",
    "x_train_lens = remove_outliers(x_train_lens_)\n",
    "x_train_lens_.mean(), np.median(x_train_lens_), x_train_lens_.std(), x_train_lens_.min(), x_train_lens_.max()"
   ]
  },
  {
   "cell_type": "code",
   "execution_count": 108,
   "metadata": {},
   "outputs": [
    {
     "data": {
      "image/png": "[encoded data removed]",
      "text/plain": [
       "<Figure size 576x396 with 2 Axes>"
      ]
     },
     "metadata": {},
     "output_type": "display_data"
    }
   ],
   "source": [
    "plt.subplot(2, 2, 1)\n",
    "plt.hist(x_test_lens, bins=40)\n",
    "plt.title('Test texts length distribution')\n",
    "plt.xlabel('Text length')\n",
    "plt.ylabel('Frequency')\n",
    "\n",
    "plt.subplot(2, 2, 2)\n",
    "plt.hist(x_train_lens, bins=40)\n",
    "plt.title('Train texts length distribution')\n",
    "plt.xlabel('Text length')\n",
    "\n",
    "plt.show()"
   ]
  },
  {
   "cell_type": "code",
   "execution_count": 91,
   "metadata": {},
   "outputs": [
    {
     "data": {
      "image/png": "[encoded data removed]",
      "text/plain": [
       "<Figure size 576x396 with 1 Axes>"
      ]
     },
     "metadata": {},
     "output_type": "display_data"
    }
   ],
   "source": []
  },
  {
   "cell_type": "code",
   "execution_count": 86,
   "metadata": {},
   "outputs": [
    {
     "data": {
      "text/plain": [
       "(array([  0.,   0.,   0.,   0.,   0.,   0.,   0.,   0.,   0.,   0.,   0.,\n",
       "          0.,   0.,   0.,   0.,   0.,   0.,   0.,   0.,   0.,   0.,   0.,\n",
       "          0.,   0.,   0., 235.,   0.,   0.,   0.,   0.,   0.,   0.,   0.,\n",
       "          0.,   0.,   0.,   0.,   0.,   0.,   0.,   0.,   0.,   0.,   0.,\n",
       "          0.,   0.,   0.,   0.,   0.,   0.]),\n",
       " array([499.5 , 499.52, 499.54, 499.56, 499.58, 499.6 , 499.62, 499.64,\n",
       "        499.66, 499.68, 499.7 , 499.72, 499.74, 499.76, 499.78, 499.8 ,\n",
       "        499.82, 499.84, 499.86, 499.88, 499.9 , 499.92, 499.94, 499.96,\n",
       "        499.98, 500.  , 500.02, 500.04, 500.06, 500.08, 500.1 , 500.12,\n",
       "        500.14, 500.16, 500.18, 500.2 , 500.22, 500.24, 500.26, 500.28,\n",
       "        500.3 , 500.32, 500.34, 500.36, 500.38, 500.4 , 500.42, 500.44,\n",
       "        500.46, 500.48, 500.5 ]),\n",
       " <a list of 50 Patch objects>)"
      ]
     },
     "execution_count": 86,
     "metadata": {},
     "output_type": "execute_result"
    },
    {
     "data": {
      "image/png": "[encoded data removed]",
      "text/plain": [
       "<Figure size 576x396 with 1 Axes>"
      ]
     },
     "metadata": {},
     "output_type": "display_data"
    }
   ],
   "source": [
    "y_train_lens = {label:y_train.count(label) for label in set(y_train)}\n",
    "plt.hist(y_train_lens.values(), bins=50)"
   ]
  },
  {
   "cell_type": "code",
   "execution_count": 87,
   "metadata": {},
   "outputs": [
    {
     "data": {
      "text/plain": [
       "{'grn\\n': 500,\n",
       " 'sgs\\n': 500,\n",
       " 'rue\\n': 500,\n",
       " 'csb\\n': 500,\n",
       " 'tat\\n': 500,\n",
       " 'lat\\n': 500,\n",
       " 'heb\\n': 500,\n",
       " 'khm\\n': 500,\n",
       " 'que\\n': 500,\n",
       " 'tha\\n': 500,\n",
       " 'sin\\n': 500,\n",
       " 'bxr\\n': 500,\n",
       " 'ibo\\n': 500,\n",
       " 'hin\\n': 500,\n",
       " 'isl\\n': 500,\n",
       " 'bel\\n': 500,\n",
       " 'fin\\n': 500,\n",
       " 'hbs\\n': 500,\n",
       " 'rup\\n': 500,\n",
       " 'cat\\n': 500,\n",
       " 'ukr\\n': 500,\n",
       " 'min\\n': 500,\n",
       " 'hif\\n': 500,\n",
       " 'fry\\n': 500,\n",
       " 'bjn\\n': 500,\n",
       " 'hun\\n': 500,\n",
       " 'lin\\n': 500,\n",
       " 'kur\\n': 500,\n",
       " 'sna\\n': 500,\n",
       " 'ava\\n': 500,\n",
       " 'sqi\\n': 500,\n",
       " 'nav\\n': 500,\n",
       " 'xho\\n': 500,\n",
       " 'hat\\n': 500,\n",
       " 'vls\\n': 500,\n",
       " 'pan\\n': 500,\n",
       " 'orm\\n': 500,\n",
       " 'bul\\n': 500,\n",
       " 'gag\\n': 500,\n",
       " 'glk\\n': 500,\n",
       " 'ita\\n': 500,\n",
       " 'frp\\n': 500,\n",
       " 'vep\\n': 500,\n",
       " 'ltz\\n': 500,\n",
       " 'srd\\n': 500,\n",
       " 'kom\\n': 500,\n",
       " 'xmf\\n': 500,\n",
       " 'ast\\n': 500,\n",
       " 'hak\\n': 500,\n",
       " 'kab\\n': 500,\n",
       " 'sco\\n': 500,\n",
       " 'swe\\n': 500,\n",
       " 'wol\\n': 500,\n",
       " 'cos\\n': 500,\n",
       " 'mlg\\n': 500,\n",
       " 'msa\\n': 500,\n",
       " 'mri\\n': 500,\n",
       " 'nan\\n': 500,\n",
       " 'mrj\\n': 500,\n",
       " 'wln\\n': 500,\n",
       " 'kok\\n': 500,\n",
       " 'sme\\n': 500,\n",
       " 'glv\\n': 500,\n",
       " 'cor\\n': 500,\n",
       " 'slv\\n': 500,\n",
       " 'koi\\n': 500,\n",
       " 'slk\\n': 500,\n",
       " 'lit\\n': 500,\n",
       " 'nob\\n': 500,\n",
       " 'roh\\n': 500,\n",
       " 'stq\\n': 500,\n",
       " 'tur\\n': 500,\n",
       " 'lij\\n': 500,\n",
       " 'dty\\n': 500,\n",
       " 'nds\\n': 500,\n",
       " 'aze\\n': 500,\n",
       " 'bod\\n': 500,\n",
       " 'pap\\n': 500,\n",
       " 'ext\\n': 500,\n",
       " 'ace\\n': 500,\n",
       " 'cdo\\n': 500,\n",
       " 'ido\\n': 500,\n",
       " 'diq\\n': 500,\n",
       " 'bho\\n': 500,\n",
       " 'mar\\n': 500,\n",
       " 'lav\\n': 500,\n",
       " 'snd\\n': 500,\n",
       " 'ang\\n': 500,\n",
       " 'tgk\\n': 500,\n",
       " 'ceb\\n': 500,\n",
       " 'new\\n': 500,\n",
       " 'lug\\n': 500,\n",
       " 'nso\\n': 500,\n",
       " 'zh-yue\\n': 500,\n",
       " 'sun\\n': 500,\n",
       " 'war\\n': 500,\n",
       " 'che\\n': 500,\n",
       " 'ltg\\n': 500,\n",
       " 'kan\\n': 500,\n",
       " 'tgl\\n': 500,\n",
       " 'deu\\n': 500,\n",
       " 'oci\\n': 500,\n",
       " 'bcl\\n': 500,\n",
       " 'ara\\n': 500,\n",
       " 'cym\\n': 500,\n",
       " 'pus\\n': 500,\n",
       " 'chr\\n': 500,\n",
       " 'crh\\n': 500,\n",
       " 'zho\\n': 500,\n",
       " 'jbo\\n': 500,\n",
       " 'nrm\\n': 500,\n",
       " 'myv\\n': 500,\n",
       " 'lrc\\n': 500,\n",
       " 'bos\\n': 500,\n",
       " 'arg\\n': 500,\n",
       " 'swa\\n': 500,\n",
       " 'fas\\n': 500,\n",
       " 'uzb\\n': 500,\n",
       " 'mzn\\n': 500,\n",
       " 'ces\\n': 500,\n",
       " 'jav\\n': 500,\n",
       " 'zea\\n': 500,\n",
       " 'fra\\n': 500,\n",
       " 'dan\\n': 500,\n",
       " 'pam\\n': 500,\n",
       " 'lmo\\n': 500,\n",
       " 'div\\n': 500,\n",
       " 'mai\\n': 500,\n",
       " 'hye\\n': 500,\n",
       " 'jpn\\n': 500,\n",
       " 'tet\\n': 500,\n",
       " 'uig\\n': 500,\n",
       " 'nno\\n': 500,\n",
       " 'ell\\n': 500,\n",
       " 'tsn\\n': 500,\n",
       " 'tuk\\n': 500,\n",
       " 'ori\\n': 500,\n",
       " 'asm\\n': 500,\n",
       " 'map-bms\\n': 500,\n",
       " 'mhr\\n': 500,\n",
       " 'ind\\n': 500,\n",
       " 'vec\\n': 500,\n",
       " 'aym\\n': 500,\n",
       " 'san\\n': 500,\n",
       " 'nap\\n': 500,\n",
       " 'eus\\n': 500,\n",
       " 'mal\\n': 500,\n",
       " 'ben\\n': 500,\n",
       " 'afr\\n': 500,\n",
       " 'azb\\n': 500,\n",
       " 'pfl\\n': 500,\n",
       " 'chv\\n': 500,\n",
       " 'nld\\n': 500,\n",
       " 'lad\\n': 500,\n",
       " 'kaz\\n': 500,\n",
       " 'eng\\n': 500,\n",
       " 'bpy\\n': 500,\n",
       " 'kbd\\n': 500,\n",
       " 'kor\\n': 500,\n",
       " 'ile\\n': 500,\n",
       " 'pcd\\n': 500,\n",
       " 'spa\\n': 500,\n",
       " 'mlt\\n': 500,\n",
       " 'tyv\\n': 500,\n",
       " 'tel\\n': 500,\n",
       " 'nep\\n': 500,\n",
       " 'som\\n': 500,\n",
       " 'wuu\\n': 500,\n",
       " 'kaa\\n': 500,\n",
       " 'bar\\n': 500,\n",
       " 'lez\\n': 500,\n",
       " 'vro\\n': 500,\n",
       " 'ckb\\n': 500,\n",
       " 'urd\\n': 500,\n",
       " 'mdf\\n': 500,\n",
       " 'lim\\n': 500,\n",
       " 'scn\\n': 500,\n",
       " 'oss\\n': 500,\n",
       " 'glg\\n': 500,\n",
       " 'vie\\n': 500,\n",
       " 'pnb\\n': 500,\n",
       " 'gla\\n': 500,\n",
       " 'rus\\n': 500,\n",
       " 'amh\\n': 500,\n",
       " 'kat\\n': 500,\n",
       " 'yor\\n': 500,\n",
       " 'pag\\n': 500,\n",
       " 'kir\\n': 500,\n",
       " 'hau\\n': 500,\n",
       " 'be-tarask\\n': 500,\n",
       " 'yid\\n': 500,\n",
       " 'olo\\n': 500,\n",
       " 'pdc\\n': 500,\n",
       " 'lzh\\n': 500,\n",
       " 'ron\\n': 500,\n",
       " 'sah\\n': 500,\n",
       " 'tcy\\n': 500,\n",
       " 'ina\\n': 500,\n",
       " 'guj\\n': 500,\n",
       " 'kin\\n': 500,\n",
       " 'udm\\n': 500,\n",
       " 'roa-tara\\n': 500,\n",
       " 'szl\\n': 500,\n",
       " 'fur\\n': 500,\n",
       " 'egl\\n': 500,\n",
       " 'mya\\n': 500,\n",
       " 'dsb\\n': 500,\n",
       " 'nci\\n': 500,\n",
       " 'mkd\\n': 500,\n",
       " 'gle\\n': 500,\n",
       " 'hrv\\n': 500,\n",
       " 'ilo\\n': 500,\n",
       " 'mon\\n': 500,\n",
       " 'srn\\n': 500,\n",
       " 'arz\\n': 500,\n",
       " 'ton\\n': 500,\n",
       " 'als\\n': 500,\n",
       " 'epo\\n': 500,\n",
       " 'lao\\n': 500,\n",
       " 'krc\\n': 500,\n",
       " 'bak\\n': 500,\n",
       " 'vol\\n': 500,\n",
       " 'tam\\n': 500,\n",
       " 'cbk\\n': 500,\n",
       " 'est\\n': 500,\n",
       " 'jam\\n': 500,\n",
       " 'por\\n': 500,\n",
       " 'ksh\\n': 500,\n",
       " 'nds-nl\\n': 500,\n",
       " 'mwl\\n': 500,\n",
       " 'pol\\n': 500,\n",
       " 'srp\\n': 500,\n",
       " 'hsb\\n': 500,\n",
       " 'bre\\n': 500,\n",
       " 'fao\\n': 500}"
      ]
     },
     "execution_count": 87,
     "metadata": {},
     "output_type": "execute_result"
    }
   ],
   "source": [
    "y_train_lens"
   ]
  },
  {
   "cell_type": "markdown",
   "metadata": {},
   "source": [
    "## Models performance evaluation"
   ]
  },
  {
   "cell_type": "markdown",
   "metadata": {},
   "source": [
    "### Base model variations"
   ]
  },
  {
   "cell_type": "code",
   "execution_count": null,
   "metadata": {},
   "outputs": [],
   "source": []
  },
  {
   "cell_type": "markdown",
   "metadata": {},
   "source": [
    "### Processing words and phrases separately"
   ]
  },
  {
   "cell_type": "code",
   "execution_count": null,
   "metadata": {},
   "outputs": [],
   "source": []
  },
  {
   "cell_type": "markdown",
   "metadata": {},
   "source": [
    "### Comparision"
   ]
  },
  {
   "cell_type": "code",
   "execution_count": null,
   "metadata": {},
   "outputs": [],
   "source": []
  },
  {
   "cell_type": "markdown",
   "metadata": {},
   "source": [
    "### Summary"
   ]
  },
  {
   "cell_type": "code",
   "execution_count": null,
   "metadata": {},
   "outputs": [],
   "source": []
  }
 ],
 "metadata": {
  "kernelspec": {
   "display_name": "Python 3.7.4 64-bit",
   "language": "python",
   "name": "python37464bit7d8f1560eda44d7483159e2196aa1f7a"
  },
  "language_info": {
   "codemirror_mode": {
    "name": "ipython",
    "version": 3
   },
   "file_extension": ".py",
   "mimetype": "text/x-python",
   "name": "python",
   "nbconvert_exporter": "python",
   "pygments_lexer": "ipython3",
   "version": "3.7.4"
  }
 },
 "nbformat": 4,
 "nbformat_minor": 2
}
